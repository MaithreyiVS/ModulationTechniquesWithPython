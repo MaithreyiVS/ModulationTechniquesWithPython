{
 "cells": [
  {
   "cell_type": "code",
   "execution_count": null,
   "metadata": {},
   "outputs": [],
   "source": [
    "import numpy as np\n",
    "import matplotlib.pyplot as plt\n",
    "\n",
    "carrier_freq = 1000  # Carrier frequency in Hz\n",
    "modulating_freq = 200  # Modulating frequency in Hz\n",
    "modulation_index = 0.7\n",
    "\n",
    "time = np.linspace(0, 1, num=1000)\n",
    "carrier_wave = np.sin(2 * np.pi * carrier_freq * time)\n",
    "modulating_wave = np.sin(2 * np.pi * modulating_freq * time)\n",
    "am_modulated_wave = (1 + modulation_index * modulating_wave) * carrier_wave\n",
    "\n",
    "plt.figure(figsize=(10, 6))\n",
    "plt.plot(time, am_modulated_wave)\n",
    "plt.title('AM Modulated Signal')\n",
    "plt.xlabel('Time (seconds)')\n",
    "plt.ylabel('Amplitude')\n",
    "plt.grid(True)\n",
    "plt.show()\n"
   ]
  }
 ],
 "metadata": {
  "language_info": {
   "name": "python"
  },
  "orig_nbformat": 4
 },
 "nbformat": 4,
 "nbformat_minor": 2
}
