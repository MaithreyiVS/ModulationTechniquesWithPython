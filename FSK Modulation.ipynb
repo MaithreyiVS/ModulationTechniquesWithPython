{
 "cells": [
  {
   "cell_type": "code",
   "execution_count": null,
   "metadata": {},
   "outputs": [],
   "source": [
    "import numpy as np\n",
    "import matplotlib.pyplot as plt\n",
    "\n",
    "def fsk_modulation(data, carrier_freq, bit_rate, freq_spacing):\n",
    "    time_per_bit = 1.0 / bit_rate\n",
    "    time = np.arange(0, len(data) * time_per_bit, time_per_bit)\n",
    "    modulated_signal = np.zeros(len(time))\n",
    "    \n",
    "    for i, bit in enumerate(data):\n",
    "        if bit == 0:\n",
    "            modulated_signal[i * int(bit_rate):(i + 1) * int(bit_rate)] = np.cos(2 * np.pi * (carrier_freq + freq_spacing) * time_per_bit * i)\n",
    "        else:\n",
    "            modulated_signal[i * int(bit_rate):(i + 1) * int(bit_rate)] = np.cos(2 * np.pi * (carrier_freq - freq_spacing) * time_per_bit * i)\n",
    "    \n",
    "    return time, modulated_signal\n",
    "\n",
    "# Parameters\n",
    "data = [0, 1, 0, 1, 0, 0, 1, 1]  # Binary data\n",
    "carrier_freq = 1000  # Carrier frequency in Hz\n",
    "bit_rate = 1000      # Bit rate in bits per second\n",
    "freq_spacing = 500   # Frequency spacing for FSK in Hz\n",
    "\n",
    "# Perform FSK modulation\n",
    "time, modulated_signal = fsk_modulation(data, carrier_freq, bit_rate, freq_spacing)\n",
    "\n",
    "# Plotting\n",
    "plt.figure(figsize=(10, 6))\n",
    "plt.plot(time, modulated_signal)\n",
    "plt.title('FSK Modulated Signal')\n",
    "plt.xlabel('Time (seconds)')\n",
    "plt.ylabel('Amplitude')\n",
    "plt.grid(True)\n",
    "plt.show()\n"
   ]
  }
 ],
 "metadata": {
  "kernelspec": {
   "display_name": "Python 3",
   "language": "python",
   "name": "python3"
  },
  "language_info": {
   "name": "python",
   "version": "3.11.0"
  },
  "orig_nbformat": 4
 },
 "nbformat": 4,
 "nbformat_minor": 2
}
